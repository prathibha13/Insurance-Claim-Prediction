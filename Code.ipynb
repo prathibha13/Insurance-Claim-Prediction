{
 "cells": [
  {
   "cell_type": "markdown",
   "metadata": {},
   "source": [
    "## Import libraries"
   ]
  },
  {
   "cell_type": "code",
   "execution_count": null,
   "metadata": {
    "execution": {
     "iopub.execute_input": "2021-07-18T07:00:02.292588Z",
     "iopub.status.busy": "2021-07-18T07:00:02.292188Z",
     "iopub.status.idle": "2021-07-18T07:00:02.298397Z",
     "shell.execute_reply": "2021-07-18T07:00:02.297026Z",
     "shell.execute_reply.started": "2021-07-18T07:00:02.292531Z"
    }
   },
   "outputs": [],
   "source": [
    "import pandas as pd # data analytical library\n",
    "import numpy as np #fast linear algebra\n",
    "import matplotlib.pyplot as plt #visualization\n",
    "import seaborn as sns #statistical visualization"
   ]
  },
  {
   "cell_type": "markdown",
   "metadata": {},
   "source": [
    "## Reading the dataset"
   ]
  },
  {
   "cell_type": "code",
   "execution_count": null,
   "metadata": {
    "execution": {
     "iopub.execute_input": "2021-07-18T07:00:02.30113Z",
     "iopub.status.busy": "2021-07-18T07:00:02.300713Z",
     "iopub.status.idle": "2021-07-18T07:00:02.521628Z",
     "shell.execute_reply": "2021-07-18T07:00:02.52053Z",
     "shell.execute_reply.started": "2021-07-18T07:00:02.301088Z"
    }
   },
   "outputs": [],
   "source": [
    "df=pd.read_csv(\"train_SJC.csv\")"
   ]
  },
  {
   "cell_type": "markdown",
   "metadata": {},
   "source": [
    "##### To display first 5 rows of the dataset"
   ]
  },
  {
   "cell_type": "code",
   "execution_count": null,
   "metadata": {
    "execution": {
     "iopub.execute_input": "2021-07-18T07:00:02.524545Z",
     "iopub.status.busy": "2021-07-18T07:00:02.524067Z",
     "iopub.status.idle": "2021-07-18T07:00:02.559246Z",
     "shell.execute_reply": "2021-07-18T07:00:02.558131Z",
     "shell.execute_reply.started": "2021-07-18T07:00:02.524491Z"
    }
   },
   "outputs": [],
   "source": [
    "df.head()"
   ]
  },
  {
   "cell_type": "markdown",
   "metadata": {},
   "source": [
    "##### Since the headers are not named in most cases, renaming it using dictionary"
   ]
  },
  {
   "cell_type": "code",
   "execution_count": null,
   "metadata": {
    "execution": {
     "iopub.execute_input": "2021-07-18T07:00:02.562224Z",
     "iopub.status.busy": "2021-07-18T07:00:02.561485Z",
     "iopub.status.idle": "2021-07-18T07:00:02.575577Z",
     "shell.execute_reply": "2021-07-18T07:00:02.574361Z",
     "shell.execute_reply.started": "2021-07-18T07:00:02.562165Z"
    }
   },
   "outputs": [],
   "source": [
    "df=df.rename(columns={\"Unnamed: 0\":\"ClaimNumber\",\"Unnamed: 1\":\"DateTimeOfAccident\",\"Unnamed: 3\":\"Age\",\"Unnamed: 4\":\"Gender\",\n",
    "                      \"Unnamed: 5\":\"MaritalStatus\",\"Unnamed: 6\":\"DependentChildren\",\"Unnamed: 8\":\"WeeklyWages\",\n",
    "                      \"Unnamed: 9\":\"PartTimeFullTime\",\"Unnamed: 10\":\"HoursWorkedPerWeek\",\"Unnamed: 12\":\"ClaimDescription\",\n",
    "                      \"Unnamed: 13\":\"InitialIncurredCalimsCost\",\"Unnamed: 14\":'UltimateIncurredClaimCost'},inplace=False)"
   ]
  },
  {
   "cell_type": "markdown",
   "metadata": {},
   "source": [
    "##### Header column is repeated in the first row, hence remove it using drop function and display first 5 rows"
   ]
  },
  {
   "cell_type": "code",
   "execution_count": null,
   "metadata": {
    "execution": {
     "iopub.execute_input": "2021-07-18T07:00:02.578285Z",
     "iopub.status.busy": "2021-07-18T07:00:02.577451Z",
     "iopub.status.idle": "2021-07-18T07:00:02.619494Z",
     "shell.execute_reply": "2021-07-18T07:00:02.618409Z",
     "shell.execute_reply.started": "2021-07-18T07:00:02.578204Z"
    }
   },
   "outputs": [],
   "source": [
    "df=df.drop(df.index[0])\n",
    "df.head()"
   ]
  },
  {
   "cell_type": "markdown",
   "metadata": {},
   "source": [
    "## Pre-processing"
   ]
  },
  {
   "cell_type": "markdown",
   "metadata": {},
   "source": [
    "##### Analysing basic descriptions of the dataset"
   ]
  },
  {
   "cell_type": "markdown",
   "metadata": {},
   "source": [
    "#### Descriptive statistics using describe function"
   ]
  },
  {
   "cell_type": "code",
   "execution_count": null,
   "metadata": {
    "execution": {
     "iopub.execute_input": "2021-07-18T07:00:02.621237Z",
     "iopub.status.busy": "2021-07-18T07:00:02.620914Z",
     "iopub.status.idle": "2021-07-18T07:00:02.647062Z",
     "shell.execute_reply": "2021-07-18T07:00:02.645953Z",
     "shell.execute_reply.started": "2021-07-18T07:00:02.621204Z"
    }
   },
   "outputs": [],
   "source": [
    "df.describe() # displays only for numeric columns"
   ]
  },
  {
   "cell_type": "markdown",
   "metadata": {},
   "source": [
    "#### To find the shape/size of the data"
   ]
  },
  {
   "cell_type": "code",
   "execution_count": null,
   "metadata": {
    "execution": {
     "iopub.execute_input": "2021-07-18T07:00:02.650545Z",
     "iopub.status.busy": "2021-07-18T07:00:02.650094Z",
     "iopub.status.idle": "2021-07-18T07:00:02.658762Z",
     "shell.execute_reply": "2021-07-18T07:00:02.657154Z",
     "shell.execute_reply.started": "2021-07-18T07:00:02.650504Z"
    }
   },
   "outputs": [],
   "source": [
    "df.shape # the dataframe has 36176 rows and 17 columns"
   ]
  },
  {
   "cell_type": "markdown",
   "metadata": {},
   "source": [
    "#### To find a concise summary of the dataframe using info function"
   ]
  },
  {
   "cell_type": "code",
   "execution_count": null,
   "metadata": {
    "execution": {
     "iopub.execute_input": "2021-07-18T07:00:02.661237Z",
     "iopub.status.busy": "2021-07-18T07:00:02.660677Z",
     "iopub.status.idle": "2021-07-18T07:00:02.738943Z",
     "shell.execute_reply": "2021-07-18T07:00:02.737579Z",
     "shell.execute_reply.started": "2021-07-18T07:00:02.661187Z"
    }
   },
   "outputs": [],
   "source": [
    "df.info()"
   ]
  },
  {
   "cell_type": "markdown",
   "metadata": {},
   "source": [
    "#### To check the datatypes of the features"
   ]
  },
  {
   "cell_type": "code",
   "execution_count": null,
   "metadata": {
    "execution": {
     "iopub.execute_input": "2021-07-18T07:00:02.741012Z",
     "iopub.status.busy": "2021-07-18T07:00:02.740608Z",
     "iopub.status.idle": "2021-07-18T07:00:02.752322Z",
     "shell.execute_reply": "2021-07-18T07:00:02.750941Z",
     "shell.execute_reply.started": "2021-07-18T07:00:02.740974Z"
    }
   },
   "outputs": [],
   "source": [
    "df.dtypes # few numeric datatypes are classified as string"
   ]
  },
  {
   "cell_type": "markdown",
   "metadata": {},
   "source": [
    "##### Converting some features that are classified as object data type to numeric for better analysis"
   ]
  },
  {
   "cell_type": "code",
   "execution_count": null,
   "metadata": {
    "execution": {
     "iopub.execute_input": "2021-07-18T07:00:02.754099Z",
     "iopub.status.busy": "2021-07-18T07:00:02.753774Z",
     "iopub.status.idle": "2021-07-18T07:00:02.927165Z",
     "shell.execute_reply": "2021-07-18T07:00:02.925906Z",
     "shell.execute_reply.started": "2021-07-18T07:00:02.754066Z"
    }
   },
   "outputs": [],
   "source": [
    "df['Age'] = pd.to_numeric(df['Age'])\n",
    "df['DependentChildren'] = pd.to_numeric(df['DependentChildren'])\n",
    "df['WeeklyWages'] = df['WeeklyWages'].astype('float64')\n",
    "df['HoursWorkedPerWeek'] = df['HoursWorkedPerWeek'].astype('float64')\n",
    "df['InitialIncurredCalimsCost'] = pd.to_numeric(df['InitialIncurredCalimsCost'])\n",
    "df['UltimateIncurredClaimCost'] = pd.to_numeric(df['UltimateIncurredClaimCost'])"
   ]
  },
  {
   "cell_type": "markdown",
   "metadata": {},
   "source": [
    "##### To check if the datatypes are changed"
   ]
  },
  {
   "cell_type": "code",
   "execution_count": null,
   "metadata": {
    "execution": {
     "iopub.execute_input": "2021-07-18T07:00:02.92892Z",
     "iopub.status.busy": "2021-07-18T07:00:02.928638Z",
     "iopub.status.idle": "2021-07-18T07:00:02.937619Z",
     "shell.execute_reply": "2021-07-18T07:00:02.936306Z",
     "shell.execute_reply.started": "2021-07-18T07:00:02.928892Z"
    }
   },
   "outputs": [],
   "source": [
    "df.dtypes"
   ]
  },
  {
   "cell_type": "markdown",
   "metadata": {},
   "source": [
    "## Missing value analysis and treatment"
   ]
  },
  {
   "cell_type": "markdown",
   "metadata": {},
   "source": [
    "### Finding which columns have missing values"
   ]
  },
  {
   "cell_type": "code",
   "execution_count": null,
   "metadata": {
    "execution": {
     "iopub.execute_input": "2021-07-18T07:00:02.939795Z",
     "iopub.status.busy": "2021-07-18T07:00:02.939357Z",
     "iopub.status.idle": "2021-07-18T07:00:02.982179Z",
     "shell.execute_reply": "2021-07-18T07:00:02.981091Z",
     "shell.execute_reply.started": "2021-07-18T07:00:02.939746Z"
    }
   },
   "outputs": [],
   "source": [
    "df.isnull().sum()"
   ]
  },
  {
   "cell_type": "markdown",
   "metadata": {},
   "source": [
    "#### checking the type of data of missing value columns"
   ]
  },
  {
   "cell_type": "code",
   "execution_count": null,
   "metadata": {
    "execution": {
     "iopub.execute_input": "2021-07-18T07:00:02.984406Z",
     "iopub.status.busy": "2021-07-18T07:00:02.98394Z",
     "iopub.status.idle": "2021-07-18T07:00:03.004165Z",
     "shell.execute_reply": "2021-07-18T07:00:03.003071Z",
     "shell.execute_reply.started": "2021-07-18T07:00:02.984359Z"
    }
   },
   "outputs": [],
   "source": [
    "df['MaritalStatus'].value_counts() # categorical"
   ]
  },
  {
   "cell_type": "code",
   "execution_count": null,
   "metadata": {
    "execution": {
     "iopub.execute_input": "2021-07-18T07:00:03.005973Z",
     "iopub.status.busy": "2021-07-18T07:00:03.005662Z",
     "iopub.status.idle": "2021-07-18T07:00:03.025101Z",
     "shell.execute_reply": "2021-07-18T07:00:03.023692Z",
     "shell.execute_reply.started": "2021-07-18T07:00:03.005943Z"
    }
   },
   "outputs": [],
   "source": [
    "df['WeeklyWages'].value_counts() # continuous"
   ]
  },
  {
   "cell_type": "code",
   "execution_count": null,
   "metadata": {
    "execution": {
     "iopub.execute_input": "2021-07-18T07:00:03.027353Z",
     "iopub.status.busy": "2021-07-18T07:00:03.026858Z",
     "iopub.status.idle": "2021-07-18T07:00:03.041348Z",
     "shell.execute_reply": "2021-07-18T07:00:03.039924Z",
     "shell.execute_reply.started": "2021-07-18T07:00:03.0273Z"
    }
   },
   "outputs": [],
   "source": [
    "df['HoursWorkedPerWeek'].value_counts() # continuous"
   ]
  },
  {
   "cell_type": "markdown",
   "metadata": {},
   "source": [
    "#### Treatment"
   ]
  },
  {
   "cell_type": "markdown",
   "metadata": {},
   "source": [
    "##### Classifying the missing marital status as unknown"
   ]
  },
  {
   "cell_type": "code",
   "execution_count": null,
   "metadata": {
    "execution": {
     "iopub.execute_input": "2021-07-18T07:00:03.043774Z",
     "iopub.status.busy": "2021-07-18T07:00:03.043324Z",
     "iopub.status.idle": "2021-07-18T07:00:03.055992Z",
     "shell.execute_reply": "2021-07-18T07:00:03.054759Z",
     "shell.execute_reply.started": "2021-07-18T07:00:03.043725Z"
    }
   },
   "outputs": [],
   "source": [
    "df['MaritalStatus'] = df['MaritalStatus'].fillna('U')"
   ]
  },
  {
   "cell_type": "markdown",
   "metadata": {},
   "source": [
    "##### Performing mean imputation on HoursWorkedPerWeek(continuous) data"
   ]
  },
  {
   "cell_type": "code",
   "execution_count": null,
   "metadata": {
    "execution": {
     "iopub.execute_input": "2021-07-18T07:00:03.057878Z",
     "iopub.status.busy": "2021-07-18T07:00:03.057432Z",
     "iopub.status.idle": "2021-07-18T07:00:03.618619Z",
     "shell.execute_reply": "2021-07-18T07:00:03.617375Z",
     "shell.execute_reply.started": "2021-07-18T07:00:03.057837Z"
    }
   },
   "outputs": [],
   "source": [
    "sns.distplot(df['HoursWorkedPerWeek']) # Mean becuase data is not skewed"
   ]
  },
  {
   "cell_type": "code",
   "execution_count": null,
   "metadata": {
    "execution": {
     "iopub.execute_input": "2021-07-18T07:00:03.620459Z",
     "iopub.status.busy": "2021-07-18T07:00:03.620101Z",
     "iopub.status.idle": "2021-07-18T07:00:03.628479Z",
     "shell.execute_reply": "2021-07-18T07:00:03.627164Z",
     "shell.execute_reply.started": "2021-07-18T07:00:03.620423Z"
    }
   },
   "outputs": [],
   "source": [
    "df['HoursWorkedPerWeek']=df['HoursWorkedPerWeek'].fillna(df['HoursWorkedPerWeek'].mean())"
   ]
  },
  {
   "cell_type": "markdown",
   "metadata": {},
   "source": [
    "##### Classifying the missing WeeklyWages with median"
   ]
  },
  {
   "cell_type": "code",
   "execution_count": null,
   "metadata": {
    "execution": {
     "iopub.execute_input": "2021-07-18T07:00:03.633916Z",
     "iopub.status.busy": "2021-07-18T07:00:03.633447Z",
     "iopub.status.idle": "2021-07-18T07:00:04.203117Z",
     "shell.execute_reply": "2021-07-18T07:00:04.201664Z",
     "shell.execute_reply.started": "2021-07-18T07:00:03.633875Z"
    }
   },
   "outputs": [],
   "source": [
    "sns.distplot(df['WeeklyWages']) # Median because data is skewed slightly"
   ]
  },
  {
   "cell_type": "code",
   "execution_count": null,
   "metadata": {
    "execution": {
     "iopub.execute_input": "2021-07-18T07:00:04.206164Z",
     "iopub.status.busy": "2021-07-18T07:00:04.205819Z",
     "iopub.status.idle": "2021-07-18T07:00:04.214473Z",
     "shell.execute_reply": "2021-07-18T07:00:04.212974Z",
     "shell.execute_reply.started": "2021-07-18T07:00:04.20613Z"
    }
   },
   "outputs": [],
   "source": [
    "df['WeeklyWages']=df['WeeklyWages'].fillna(df['WeeklyWages'].median())"
   ]
  },
  {
   "cell_type": "markdown",
   "metadata": {},
   "source": [
    "##### Verify if there are no missing values"
   ]
  },
  {
   "cell_type": "code",
   "execution_count": null,
   "metadata": {
    "execution": {
     "iopub.execute_input": "2021-07-18T07:00:04.216403Z",
     "iopub.status.busy": "2021-07-18T07:00:04.21603Z",
     "iopub.status.idle": "2021-07-18T07:00:04.257171Z",
     "shell.execute_reply": "2021-07-18T07:00:04.255802Z",
     "shell.execute_reply.started": "2021-07-18T07:00:04.216365Z"
    }
   },
   "outputs": [],
   "source": [
    "df.isnull().sum()"
   ]
  },
  {
   "cell_type": "code",
   "execution_count": null,
   "metadata": {
    "execution": {
     "iopub.execute_input": "2021-07-18T07:00:04.259191Z",
     "iopub.status.busy": "2021-07-18T07:00:04.258855Z",
     "iopub.status.idle": "2021-07-18T07:00:04.270423Z",
     "shell.execute_reply": "2021-07-18T07:00:04.268798Z",
     "shell.execute_reply.started": "2021-07-18T07:00:04.259159Z"
    }
   },
   "outputs": [],
   "source": [
    "df.dtypes"
   ]
  },
  {
   "cell_type": "markdown",
   "metadata": {},
   "source": [
    "## Data Tranformation"
   ]
  },
  {
   "cell_type": "markdown",
   "metadata": {},
   "source": [
    "#### Transforming DateTimeOfAccident to datetime datatype"
   ]
  },
  {
   "cell_type": "code",
   "execution_count": null,
   "metadata": {
    "execution": {
     "iopub.execute_input": "2021-07-18T07:00:04.272506Z",
     "iopub.status.busy": "2021-07-18T07:00:04.27211Z",
     "iopub.status.idle": "2021-07-18T07:00:04.284797Z",
     "shell.execute_reply": "2021-07-18T07:00:04.28366Z",
     "shell.execute_reply.started": "2021-07-18T07:00:04.272466Z"
    }
   },
   "outputs": [],
   "source": [
    "df['DateTimeOfAccident']"
   ]
  },
  {
   "cell_type": "code",
   "execution_count": null,
   "metadata": {
    "execution": {
     "iopub.execute_input": "2021-07-18T07:00:04.287097Z",
     "iopub.status.busy": "2021-07-18T07:00:04.286698Z",
     "iopub.status.idle": "2021-07-18T07:00:04.330443Z",
     "shell.execute_reply": "2021-07-18T07:00:04.329238Z",
     "shell.execute_reply.started": "2021-07-18T07:00:04.287059Z"
    }
   },
   "outputs": [],
   "source": [
    "df['DateTimeOfAccident']=pd.to_datetime(df['DateTimeOfAccident'])"
   ]
  },
  {
   "cell_type": "code",
   "execution_count": null,
   "metadata": {
    "execution": {
     "iopub.execute_input": "2021-07-18T07:00:04.332206Z",
     "iopub.status.busy": "2021-07-18T07:00:04.331712Z",
     "iopub.status.idle": "2021-07-18T07:00:04.340232Z",
     "shell.execute_reply": "2021-07-18T07:00:04.339501Z",
     "shell.execute_reply.started": "2021-07-18T07:00:04.332165Z"
    }
   },
   "outputs": [],
   "source": [
    "df.dtypes "
   ]
  },
  {
   "cell_type": "markdown",
   "metadata": {},
   "source": [
    "##### Retaining only the year of accident from date-time"
   ]
  },
  {
   "cell_type": "code",
   "execution_count": null,
   "metadata": {
    "execution": {
     "iopub.execute_input": "2021-07-18T07:00:04.341822Z",
     "iopub.status.busy": "2021-07-18T07:00:04.341386Z",
     "iopub.status.idle": "2021-07-18T07:00:04.376593Z",
     "shell.execute_reply": "2021-07-18T07:00:04.375296Z",
     "shell.execute_reply.started": "2021-07-18T07:00:04.341788Z"
    }
   },
   "outputs": [],
   "source": [
    "df['YearOfAccident']=pd.to_datetime(df['DateTimeOfAccident']).dt.year"
   ]
  },
  {
   "cell_type": "code",
   "execution_count": null,
   "metadata": {
    "execution": {
     "iopub.execute_input": "2021-07-18T07:00:04.380762Z",
     "iopub.status.busy": "2021-07-18T07:00:04.379534Z",
     "iopub.status.idle": "2021-07-18T07:00:04.391241Z",
     "shell.execute_reply": "2021-07-18T07:00:04.390145Z",
     "shell.execute_reply.started": "2021-07-18T07:00:04.380698Z"
    }
   },
   "outputs": [],
   "source": [
    "df['YearOfAccident']"
   ]
  },
  {
   "cell_type": "markdown",
   "metadata": {},
   "source": [
    "##### to check if the yearOfAccident column is created"
   ]
  },
  {
   "cell_type": "code",
   "execution_count": null,
   "metadata": {
    "execution": {
     "iopub.execute_input": "2021-07-18T07:00:04.392916Z",
     "iopub.status.busy": "2021-07-18T07:00:04.392608Z",
     "iopub.status.idle": "2021-07-18T07:00:04.418281Z",
     "shell.execute_reply": "2021-07-18T07:00:04.417414Z",
     "shell.execute_reply.started": "2021-07-18T07:00:04.392881Z"
    }
   },
   "outputs": [],
   "source": [
    "df.head() "
   ]
  },
  {
   "cell_type": "markdown",
   "metadata": {},
   "source": [
    "#### Binning"
   ]
  },
  {
   "cell_type": "markdown",
   "metadata": {},
   "source": [
    "##### Binning the age column"
   ]
  },
  {
   "cell_type": "code",
   "execution_count": null,
   "metadata": {
    "execution": {
     "iopub.execute_input": "2021-07-18T07:00:04.419853Z",
     "iopub.status.busy": "2021-07-18T07:00:04.41944Z",
     "iopub.status.idle": "2021-07-18T07:00:04.444212Z",
     "shell.execute_reply": "2021-07-18T07:00:04.443467Z",
     "shell.execute_reply.started": "2021-07-18T07:00:04.419821Z"
    }
   },
   "outputs": [],
   "source": [
    "df['Age_Bin']=pd.cut(df['Age'],bins=3)\n",
    "df['Age_Bin']"
   ]
  },
  {
   "cell_type": "code",
   "execution_count": null,
   "metadata": {
    "execution": {
     "iopub.execute_input": "2021-07-18T07:00:04.445742Z",
     "iopub.status.busy": "2021-07-18T07:00:04.445349Z",
     "iopub.status.idle": "2021-07-18T07:00:04.460443Z",
     "shell.execute_reply": "2021-07-18T07:00:04.459442Z",
     "shell.execute_reply.started": "2021-07-18T07:00:04.44571Z"
    }
   },
   "outputs": [],
   "source": [
    "df['Age_Bin']=pd.cut(df['Age'],bins=[12,35,57,80] , labels=['Youth','Adult','Senior_Citizen'])\n",
    "df['Age_Bin']"
   ]
  },
  {
   "cell_type": "markdown",
   "metadata": {},
   "source": [
    "##### Biining InitialIncurredCalimsCost into Rankings based on the cost to show the value of it"
   ]
  },
  {
   "cell_type": "code",
   "execution_count": null,
   "metadata": {
    "execution": {
     "iopub.execute_input": "2021-07-18T07:00:04.462373Z",
     "iopub.status.busy": "2021-07-18T07:00:04.46186Z",
     "iopub.status.idle": "2021-07-18T07:00:04.479725Z",
     "shell.execute_reply": "2021-07-18T07:00:04.478477Z",
     "shell.execute_reply.started": "2021-07-18T07:00:04.46232Z"
    }
   },
   "outputs": [],
   "source": [
    "df['Rating'] = pd.cut(df['InitialIncurredCalimsCost'],bins=[0,3500,7000,9500,12000,18000],labels=['1','2','3','4','5'])\n",
    "df['Rating']"
   ]
  },
  {
   "cell_type": "markdown",
   "metadata": {},
   "source": [
    "## Exploratory Data Analysis"
   ]
  },
  {
   "cell_type": "markdown",
   "metadata": {},
   "source": [
    "#### Statistical Analysis"
   ]
  },
  {
   "cell_type": "code",
   "execution_count": null,
   "metadata": {
    "execution": {
     "iopub.execute_input": "2021-07-18T07:00:04.481647Z",
     "iopub.status.busy": "2021-07-18T07:00:04.48131Z",
     "iopub.status.idle": "2021-07-18T07:00:04.499981Z",
     "shell.execute_reply": "2021-07-18T07:00:04.498942Z",
     "shell.execute_reply.started": "2021-07-18T07:00:04.48161Z"
    }
   },
   "outputs": [],
   "source": [
    "cat_data=df.select_dtypes(include=object)\n",
    "cat_data.columns"
   ]
  },
  {
   "cell_type": "code",
   "execution_count": null,
   "metadata": {
    "execution": {
     "iopub.execute_input": "2021-07-18T07:00:04.502151Z",
     "iopub.status.busy": "2021-07-18T07:00:04.501696Z",
     "iopub.status.idle": "2021-07-18T07:00:04.516471Z",
     "shell.execute_reply": "2021-07-18T07:00:04.515349Z",
     "shell.execute_reply.started": "2021-07-18T07:00:04.502097Z"
    }
   },
   "outputs": [],
   "source": [
    "num_data=df.select_dtypes(exclude=object)\n",
    "num_data.columns"
   ]
  },
  {
   "cell_type": "code",
   "execution_count": null,
   "metadata": {
    "execution": {
     "iopub.execute_input": "2021-07-18T07:00:04.518256Z",
     "iopub.status.busy": "2021-07-18T07:00:04.517765Z",
     "iopub.status.idle": "2021-07-18T07:00:04.585077Z",
     "shell.execute_reply": "2021-07-18T07:00:04.584284Z",
     "shell.execute_reply.started": "2021-07-18T07:00:04.518223Z"
    }
   },
   "outputs": [],
   "source": [
    "num_data.describe()"
   ]
  },
  {
   "cell_type": "code",
   "execution_count": null,
   "metadata": {
    "execution": {
     "iopub.execute_input": "2021-07-18T07:00:04.586833Z",
     "iopub.status.busy": "2021-07-18T07:00:04.586512Z",
     "iopub.status.idle": "2021-07-18T07:00:04.733575Z",
     "shell.execute_reply": "2021-07-18T07:00:04.732401Z",
     "shell.execute_reply.started": "2021-07-18T07:00:04.586801Z"
    }
   },
   "outputs": [],
   "source": [
    "cat_data.describe()"
   ]
  },
  {
   "cell_type": "code",
   "execution_count": null,
   "metadata": {
    "execution": {
     "iopub.execute_input": "2021-07-18T07:00:04.735823Z",
     "iopub.status.busy": "2021-07-18T07:00:04.735381Z",
     "iopub.status.idle": "2021-07-18T07:00:04.819227Z",
     "shell.execute_reply": "2021-07-18T07:00:04.818069Z",
     "shell.execute_reply.started": "2021-07-18T07:00:04.735774Z"
    }
   },
   "outputs": [],
   "source": [
    "df.apply(pd.Series.nunique)"
   ]
  },
  {
   "cell_type": "markdown",
   "metadata": {},
   "source": [
    "### Univariate Analysis"
   ]
  },
  {
   "cell_type": "markdown",
   "metadata": {},
   "source": [
    "##### Analysing the count of different discrete freautures using count plot"
   ]
  },
  {
   "cell_type": "code",
   "execution_count": null,
   "metadata": {
    "execution": {
     "iopub.execute_input": "2021-07-18T07:00:04.821145Z",
     "iopub.status.busy": "2021-07-18T07:00:04.820788Z",
     "iopub.status.idle": "2021-07-18T07:00:06.155282Z",
     "shell.execute_reply": "2021-07-18T07:00:06.154254Z",
     "shell.execute_reply.started": "2021-07-18T07:00:04.821107Z"
    }
   },
   "outputs": [],
   "source": [
    "univariate=['Age_Bin','Gender','MaritalStatus','DependentChildren','DependentsOther','PartTimeFullTime','DaysWorkedPerWeek']\n",
    "for col in univariate:\n",
    "    plt.figure(figsize = (6,4))\n",
    "    sns.countplot(x=col,data =df)"
   ]
  },
  {
   "cell_type": "markdown",
   "metadata": {},
   "source": [
    "##### From the above plots we can infer the following\n",
    "1. Youth have applied the most for insurance\n",
    "2. Number of Males who applied for insurance are way higher than females\n",
    "3. The marital status for most of the insurance holders are single\n",
    "4. Most of them do not have children or dependencies\n",
    "5. full time workers have applied more for the policy\n",
    "6. Among those who applied, most of them work 5 days a week\n"
   ]
  },
  {
   "cell_type": "markdown",
   "metadata": {},
   "source": [
    "##### Viewing the distribution of target variable using dist plot"
   ]
  },
  {
   "cell_type": "code",
   "execution_count": null,
   "metadata": {
    "execution": {
     "iopub.execute_input": "2021-07-18T07:00:06.156985Z",
     "iopub.status.busy": "2021-07-18T07:00:06.156649Z",
     "iopub.status.idle": "2021-07-18T07:00:06.979256Z",
     "shell.execute_reply": "2021-07-18T07:00:06.978335Z",
     "shell.execute_reply.started": "2021-07-18T07:00:06.156952Z"
    }
   },
   "outputs": [],
   "source": [
    "df['UltimateIncurredClaimCost'].hist(bins=25)\n",
    "plt.show()\n",
    "sns.distplot(df['UltimateIncurredClaimCost'],color='g')\n",
    "plt.show()\n",
    "sns.boxplot(df['UltimateIncurredClaimCost'],color='r')"
   ]
  },
  {
   "cell_type": "markdown",
   "metadata": {},
   "source": [
    "##### From the above 3 plots , namely histogram, distplot and boxplot we can infer the target variable is highly poitively skewed"
   ]
  },
  {
   "cell_type": "markdown",
   "metadata": {},
   "source": [
    "### Bivariate Analysis"
   ]
  },
  {
   "cell_type": "code",
   "execution_count": null,
   "metadata": {
    "execution": {
     "iopub.execute_input": "2021-07-18T07:00:06.981099Z",
     "iopub.status.busy": "2021-07-18T07:00:06.98069Z",
     "iopub.status.idle": "2021-07-18T07:00:06.987344Z",
     "shell.execute_reply": "2021-07-18T07:00:06.986157Z",
     "shell.execute_reply.started": "2021-07-18T07:00:06.981056Z"
    }
   },
   "outputs": [],
   "source": [
    "log_UltimateIncurredClaimCost=np.log(df['UltimateIncurredClaimCost'])"
   ]
  },
  {
   "cell_type": "code",
   "execution_count": null,
   "metadata": {
    "execution": {
     "iopub.execute_input": "2021-07-18T07:00:06.988866Z",
     "iopub.status.busy": "2021-07-18T07:00:06.988544Z",
     "iopub.status.idle": "2021-07-18T07:00:07.208557Z",
     "shell.execute_reply": "2021-07-18T07:00:07.20743Z",
     "shell.execute_reply.started": "2021-07-18T07:00:06.988835Z"
    }
   },
   "outputs": [],
   "source": [
    "sns.boxplot(x = 'Gender', y = log_UltimateIncurredClaimCost,  data =df)"
   ]
  },
  {
   "cell_type": "markdown",
   "metadata": {},
   "source": [
    "##### Average incurred claims cost female are the higer amount than male"
   ]
  },
  {
   "cell_type": "markdown",
   "metadata": {},
   "source": [
    "Bar plots"
   ]
  },
  {
   "cell_type": "code",
   "execution_count": null,
   "metadata": {
    "execution": {
     "iopub.execute_input": "2021-07-18T07:00:07.210061Z",
     "iopub.status.busy": "2021-07-18T07:00:07.209782Z",
     "iopub.status.idle": "2021-07-18T07:00:07.820208Z",
     "shell.execute_reply": "2021-07-18T07:00:07.818928Z",
     "shell.execute_reply.started": "2021-07-18T07:00:07.210034Z"
    }
   },
   "outputs": [],
   "source": [
    "sns.barplot(x='PartTimeFullTime',y='UltimateIncurredClaimCost',data=df)"
   ]
  },
  {
   "cell_type": "markdown",
   "metadata": {},
   "source": [
    "##### Part time workers have got higher insurance"
   ]
  },
  {
   "cell_type": "code",
   "execution_count": null,
   "metadata": {
    "execution": {
     "iopub.execute_input": "2021-07-18T07:00:07.822771Z",
     "iopub.status.busy": "2021-07-18T07:00:07.822389Z",
     "iopub.status.idle": "2021-07-18T07:00:08.639678Z",
     "shell.execute_reply": "2021-07-18T07:00:08.638442Z",
     "shell.execute_reply.started": "2021-07-18T07:00:07.822734Z"
    }
   },
   "outputs": [],
   "source": [
    "sns.barplot(x='DaysWorkedPerWeek',y='UltimateIncurredClaimCost',data=df)"
   ]
  },
  {
   "cell_type": "markdown",
   "metadata": {},
   "source": [
    "##### people working 6 days a week have got higher insurance"
   ]
  },
  {
   "cell_type": "code",
   "execution_count": null,
   "metadata": {
    "execution": {
     "iopub.execute_input": "2021-07-18T07:00:08.641942Z",
     "iopub.status.busy": "2021-07-18T07:00:08.6414Z",
     "iopub.status.idle": "2021-07-18T07:00:09.296348Z",
     "shell.execute_reply": "2021-07-18T07:00:09.2949Z",
     "shell.execute_reply.started": "2021-07-18T07:00:08.641881Z"
    }
   },
   "outputs": [],
   "source": [
    "sns.barplot(x='Age_Bin',y='UltimateIncurredClaimCost',data=df)"
   ]
  },
  {
   "cell_type": "markdown",
   "metadata": {},
   "source": [
    "##### Senior citizens have got highest insurance, as the age increases the insurance also increases"
   ]
  },
  {
   "cell_type": "code",
   "execution_count": null,
   "metadata": {
    "execution": {
     "iopub.execute_input": "2021-07-18T07:00:09.298756Z",
     "iopub.status.busy": "2021-07-18T07:00:09.298381Z",
     "iopub.status.idle": "2021-07-18T07:00:10.599779Z",
     "shell.execute_reply": "2021-07-18T07:00:10.59843Z",
     "shell.execute_reply.started": "2021-07-18T07:00:09.298723Z"
    }
   },
   "outputs": [],
   "source": [
    "plt.figure(figsize=(15,6))\n",
    "sns.barplot(x='YearOfAccident',y='UltimateIncurredClaimCost',data=df)"
   ]
  },
  {
   "cell_type": "markdown",
   "metadata": {},
   "source": [
    "##### As the year increases the amount given as insurance also increases"
   ]
  },
  {
   "cell_type": "markdown",
   "metadata": {},
   "source": [
    "### Multivariate analysis"
   ]
  },
  {
   "cell_type": "code",
   "execution_count": null,
   "metadata": {
    "execution": {
     "iopub.execute_input": "2021-07-18T07:00:10.601703Z",
     "iopub.status.busy": "2021-07-18T07:00:10.601346Z",
     "iopub.status.idle": "2021-07-18T07:01:25.651428Z",
     "shell.execute_reply": "2021-07-18T07:01:25.650643Z",
     "shell.execute_reply.started": "2021-07-18T07:00:10.601669Z"
    }
   },
   "outputs": [],
   "source": [
    "sns.pairplot(df)"
   ]
  },
  {
   "cell_type": "code",
   "execution_count": null,
   "metadata": {
    "execution": {
     "iopub.execute_input": "2021-07-18T07:01:25.653119Z",
     "iopub.status.busy": "2021-07-18T07:01:25.652674Z",
     "iopub.status.idle": "2021-07-18T07:01:26.653004Z",
     "shell.execute_reply": "2021-07-18T07:01:26.652188Z",
     "shell.execute_reply.started": "2021-07-18T07:01:25.65308Z"
    }
   },
   "outputs": [],
   "source": [
    "corrmat = df.corr()\n",
    "top_corr_features = corrmat.index\n",
    "plt.figure(figsize=(20,20))\n",
    "#plot heat map\n",
    "g=sns.heatmap(df[top_corr_features].corr(),annot=True,cmap=\"RdYlGn\")"
   ]
  },
  {
   "cell_type": "code",
   "execution_count": null,
   "metadata": {
    "execution": {
     "iopub.execute_input": "2021-07-18T07:01:26.654617Z",
     "iopub.status.busy": "2021-07-18T07:01:26.654173Z",
     "iopub.status.idle": "2021-07-18T07:01:27.060746Z",
     "shell.execute_reply": "2021-07-18T07:01:27.059466Z",
     "shell.execute_reply.started": "2021-07-18T07:01:26.654584Z"
    }
   },
   "outputs": [],
   "source": [
    "plt.figure(figsize = (10,10))\n",
    "sns.heatmap(df.corr()[['UltimateIncurredClaimCost']] ,annot = True)"
   ]
  },
  {
   "cell_type": "markdown",
   "metadata": {},
   "source": [
    "##### From the above 3 plots we can infer that the most important feature responsible for predicting the ultimateIncurredClainCost is  InitiaIncurredClaimCost "
   ]
  },
  {
   "cell_type": "markdown",
   "metadata": {},
   "source": [
    "### Outlier Analysis and treatment"
   ]
  },
  {
   "cell_type": "code",
   "execution_count": null,
   "metadata": {
    "execution": {
     "iopub.execute_input": "2021-07-18T07:01:27.062485Z",
     "iopub.status.busy": "2021-07-18T07:01:27.062138Z",
     "iopub.status.idle": "2021-07-18T07:01:27.496984Z",
     "shell.execute_reply": "2021-07-18T07:01:27.495869Z",
     "shell.execute_reply.started": "2021-07-18T07:01:27.062451Z"
    }
   },
   "outputs": [],
   "source": [
    "df.plot.box(figsize=(25,6))"
   ]
  },
  {
   "cell_type": "code",
   "execution_count": null,
   "metadata": {
    "execution": {
     "iopub.execute_input": "2021-07-18T07:01:27.498927Z",
     "iopub.status.busy": "2021-07-18T07:01:27.498569Z",
     "iopub.status.idle": "2021-07-18T07:01:27.579493Z",
     "shell.execute_reply": "2021-07-18T07:01:27.578364Z",
     "shell.execute_reply.started": "2021-07-18T07:01:27.498891Z"
    }
   },
   "outputs": [],
   "source": [
    "for i in range(4):\n",
    "\n",
    "    limit=3*df['InitialIncurredCalimsCost'].std()\n",
    "\n",
    "    lower_limit=df['InitialIncurredCalimsCost'].mean()-limit\n",
    "    upper_limit=df['InitialIncurredCalimsCost'].mean()+limit\n",
    "\n",
    "    df=df[(df['InitialIncurredCalimsCost']>lower_limit)&(df['InitialIncurredCalimsCost']<upper_limit)]\n",
    "\n",
    "    limit=3*df['UltimateIncurredClaimCost'].std()\n",
    "\n",
    "    lower_limit=df['UltimateIncurredClaimCost'].mean()-limit\n",
    "    upper_limit=df['UltimateIncurredClaimCost'].mean()+limit\n",
    "\n",
    "    df=df[(df['UltimateIncurredClaimCost']>lower_limit)&(df['UltimateIncurredClaimCost']<upper_limit)]"
   ]
  },
  {
   "cell_type": "code",
   "execution_count": null,
   "metadata": {
    "execution": {
     "iopub.execute_input": "2021-07-18T07:01:27.581814Z",
     "iopub.status.busy": "2021-07-18T07:01:27.581353Z",
     "iopub.status.idle": "2021-07-18T07:01:28.017525Z",
     "shell.execute_reply": "2021-07-18T07:01:28.016352Z",
     "shell.execute_reply.started": "2021-07-18T07:01:27.581763Z"
    }
   },
   "outputs": [],
   "source": [
    "df.plot.box(figsize=(25,6))"
   ]
  },
  {
   "cell_type": "markdown",
   "metadata": {},
   "source": [
    "## Model Building"
   ]
  },
  {
   "cell_type": "markdown",
   "metadata": {},
   "source": [
    "##### Separating the response and predictor variables"
   ]
  },
  {
   "cell_type": "code",
   "execution_count": null,
   "metadata": {
    "execution": {
     "iopub.execute_input": "2021-07-18T07:01:28.019504Z",
     "iopub.status.busy": "2021-07-18T07:01:28.019154Z",
     "iopub.status.idle": "2021-07-18T07:01:28.029049Z",
     "shell.execute_reply": "2021-07-18T07:01:28.028104Z",
     "shell.execute_reply.started": "2021-07-18T07:01:28.019471Z"
    }
   },
   "outputs": [],
   "source": [
    "response=df['UltimateIncurredClaimCost']\n",
    "response "
   ]
  },
  {
   "cell_type": "code",
   "execution_count": null,
   "metadata": {
    "execution": {
     "iopub.execute_input": "2021-07-18T07:01:28.030902Z",
     "iopub.status.busy": "2021-07-18T07:01:28.030405Z",
     "iopub.status.idle": "2021-07-18T07:01:28.082638Z",
     "shell.execute_reply": "2021-07-18T07:01:28.081353Z",
     "shell.execute_reply.started": "2021-07-18T07:01:28.030858Z"
    }
   },
   "outputs": [],
   "source": [
    "features=['ClaimNumber', 'DateReported', 'Age', 'Gender',\n",
    "          'MaritalStatus', 'DependentChildren', 'DependentsOther', 'WeeklyWages',\n",
    "          'PartTimeFullTime', 'HoursWorkedPerWeek', 'DaysWorkedPerWeek',\n",
    "          'ClaimDescription', 'InitialIncurredCalimsCost']\n",
    "pred=df[features]\n",
    "pred"
   ]
  },
  {
   "cell_type": "markdown",
   "metadata": {},
   "source": [
    "## Linear Regression"
   ]
  },
  {
   "cell_type": "code",
   "execution_count": null,
   "metadata": {
    "execution": {
     "iopub.execute_input": "2021-07-18T07:01:28.084892Z",
     "iopub.status.busy": "2021-07-18T07:01:28.084427Z",
     "iopub.status.idle": "2021-07-18T07:01:28.751689Z",
     "shell.execute_reply": "2021-07-18T07:01:28.75047Z",
     "shell.execute_reply.started": "2021-07-18T07:01:28.08484Z"
    }
   },
   "outputs": [],
   "source": [
    "def linear_regression(data):\n",
    "    \n",
    "    from sklearn.linear_model import LinearRegression\n",
    "    import sklearn.preprocessing as pre\n",
    "    from sklearn.preprocessing import LabelEncoder\n",
    "    label_en=LabelEncoder()\n",
    "    from sklearn.model_selection import train_test_split\n",
    "    from sklearn.metrics import mean_squared_error\n",
    "    \n",
    "    assignment_dict=[]\n",
    "    \n",
    "    X_scale=data.drop(['UltimateIncurredClaimCost'],axis='columns')\n",
    "    cat_df=X_scale.select_dtypes(exclude=[float,int]).columns\n",
    "    for i in cat_df :\n",
    "        X_scale[str(i)]=label_en.fit_transform(X_scale[str(i)])\n",
    "    X_scale=X_scale.apply(pre.minmax_scale)\n",
    "    Y=data['UltimateIncurredClaimCost']\n",
    "    \n",
    "    \n",
    "    X=X_scale.copy()\n",
    "    \n",
    "    n=len(X_scale.columns)\n",
    "    \n",
    "    upper_index=3\n",
    "    lower_index=0\n",
    "    \n",
    "    while upper_index<=n:\n",
    "        \n",
    "        X_scale=X.drop(X.columns[lower_index:upper_index],axis='columns')\n",
    "        x_train,x_test,y_train,y_test=train_test_split(X_scale,Y,test_size=0.3,random_state=1234456)\n",
    "        dropped_cols=X.columns[lower_index:upper_index]\n",
    "        \n",
    "        glm=LinearRegression()\n",
    "        glm.fit(x_train,y_train)\n",
    "        y_pred=glm.predict(x_test)\n",
    "        \n",
    "        \n",
    "\n",
    "        assignment_dict.append({\n",
    "\n",
    "            'features':X_scale.columns,\n",
    "            'Number of features':len(X_scale.columns),\n",
    "            'dropped_features':dropped_cols,\n",
    "            'train_score':glm.score(x_train,y_train),\n",
    "            'test_score':glm.score(x_test,y_test),\n",
    "            'rmse' : mean_squared_error(y_test, y_pred, squared=False)\n",
    "        })\n",
    "\n",
    "        \n",
    "        \n",
    "        upper_index+=3\n",
    "        lower_index+=3\n",
    "    \n",
    "    dataframe=pd.DataFrame(assignment_dict)\n",
    "    assignment=dataframe.style.set_caption(\"Train and test scores for different features\")\n",
    "    pd.set_option('display.max_colwidth', None)\n",
    "    \n",
    "\n",
    "    return assignment\n",
    "\n",
    "linear_regression(df)"
   ]
  },
  {
   "cell_type": "markdown",
   "metadata": {},
   "source": [
    "Choosing ['ClaimNumber', 'DateTimeOfAccident', 'DateReported', 'Age', 'Gender', 'MaritalStatus', 'DependentChildren', 'DependentsOther', 'WeeklyWages', 'ClaimDescription', 'InitialIncurredCalimsCost', 'YearOfAccident', 'Age_Bin'] gives better score of {0.686777,0.692278} for train and test scores with rmse value 1897.786500"
   ]
  },
  {
   "cell_type": "markdown",
   "metadata": {},
   "source": [
    "## Random forest"
   ]
  },
  {
   "cell_type": "code",
   "execution_count": null,
   "metadata": {
    "execution": {
     "iopub.execute_input": "2021-07-18T07:01:28.754004Z",
     "iopub.status.busy": "2021-07-18T07:01:28.753341Z",
     "iopub.status.idle": "2021-07-18T07:02:51.398374Z",
     "shell.execute_reply": "2021-07-18T07:02:51.396941Z",
     "shell.execute_reply.started": "2021-07-18T07:01:28.753955Z"
    }
   },
   "outputs": [],
   "source": [
    "def random_forest_regression(data):\n",
    "    \n",
    "    from sklearn.metrics import mean_squared_error\n",
    "    from sklearn.ensemble import RandomForestRegressor\n",
    "    import sklearn.preprocessing as pre\n",
    "    from sklearn.preprocessing import LabelEncoder\n",
    "    label_en=LabelEncoder()\n",
    "    from sklearn.model_selection import train_test_split\n",
    "    \n",
    "    assignment_dict=[]\n",
    "    \n",
    "    X_scale=data.drop(['UltimateIncurredClaimCost'],axis='columns')\n",
    "    cat_df=X_scale.select_dtypes(exclude=[float,int]).columns\n",
    "    for i in cat_df :\n",
    "        X_scale[str(i)]=label_en.fit_transform(X_scale[str(i)])\n",
    "    X_scale=X_scale.apply(pre.minmax_scale)\n",
    "    Y=data['UltimateIncurredClaimCost']\n",
    "    \n",
    "    \n",
    "    X=X_scale.copy()\n",
    "    \n",
    "    n=len(X_scale.columns)\n",
    "    \n",
    "    upper_index=3\n",
    "    lower_index=0\n",
    "    \n",
    "    while upper_index<=n:\n",
    "        \n",
    "        X_scale=X.drop(X.columns[lower_index:upper_index],axis='columns')\n",
    "        x_train,x_test,y_train,y_test=train_test_split(X_scale,Y,test_size=0.3,random_state=1234456)\n",
    "        dropped_cols=X.columns[lower_index:upper_index]\n",
    "        \n",
    "        rfr= RandomForestRegressor()\n",
    "        rfr.fit(x_train,y_train)\n",
    "        y_pred=rfr.predict(x_test)\n",
    "        \n",
    "        \n",
    "\n",
    "        assignment_dict.append({\n",
    "\n",
    "            'features':X_scale.columns,\n",
    "            'Number of features':len(X_scale.columns),\n",
    "            'dropped_features':dropped_cols,\n",
    "            'train_score':rfr.score(x_train,y_train),\n",
    "            'test_score':rfr.score(x_test,y_test),\n",
    "            'rmse' : mean_squared_error(y_test, y_pred, squared=False)\n",
    "        })\n",
    "\n",
    "        \n",
    "        \n",
    "        upper_index+=3\n",
    "        lower_index+=3\n",
    "    \n",
    "    dataframe=pd.DataFrame(assignment_dict)\n",
    "    assignment=dataframe.style.set_caption(\"Train and test scores for different features\")\n",
    "    pd.set_option('display.max_colwidth', None)\n",
    "    \n",
    "\n",
    "    return assignment\n",
    "random_forest_regression(df)"
   ]
  },
  {
   "cell_type": "markdown",
   "metadata": {},
   "source": [
    "Choosing ['ClaimNumber', 'DateTimeOfAccident', 'DateReported', 'Age', 'Gender', 'MaritalStatus', 'DependentChildren', 'DependentsOther', 'WeeklyWages', 'ClaimDescription', 'InitialIncurredCalimsCost', 'YearOfAccident', 'Age_Bin'] gives better score of {0.963530,0.749708} for train and test scores with rmse value 1662.737423"
   ]
  },
  {
   "cell_type": "markdown",
   "metadata": {},
   "source": [
    "# SVR"
   ]
  },
  {
   "cell_type": "code",
   "execution_count": null,
   "metadata": {
    "execution": {
     "iopub.execute_input": "2021-07-18T06:40:06.717983Z",
     "iopub.status.busy": "2021-07-18T06:40:06.717566Z",
     "iopub.status.idle": "2021-07-18T06:44:07.108231Z",
     "shell.execute_reply": "2021-07-18T06:44:07.105641Z",
     "shell.execute_reply.started": "2021-07-18T06:40:06.717941Z"
    }
   },
   "outputs": [],
   "source": [
    "def support_vector_regression(data):\n",
    "    \n",
    "    from sklearn.svm import SVR\n",
    "    import sklearn.preprocessing as pre\n",
    "    from sklearn.preprocessing import LabelEncoder\n",
    "    label_en=LabelEncoder()\n",
    "    from sklearn.model_selection import train_test_split\n",
    "    \n",
    "    assignment_dict=[]\n",
    "    \n",
    "    X_scale=data.drop(['UltimateIncurredClaimCost'],axis='columns')\n",
    "    cat_df=X_scale.select_dtypes(exclude=[float,int]).columns\n",
    "    for i in cat_df :\n",
    "        X_scale[str(i)]=label_en.fit_transform(X_scale[str(i)])\n",
    "    X_scale=X_scale.apply(pre.minmax_scale)\n",
    "    Y=data['UltimateIncurredClaimCost']\n",
    "    \n",
    "    \n",
    "    X=X_scale.copy()\n",
    "    \n",
    "    n=len(X_scale.columns)\n",
    "    \n",
    "    upper_index=3\n",
    "    lower_index=0\n",
    "    \n",
    "    while upper_index<=n:\n",
    "        \n",
    "        X_scale=X.drop(X.columns[lower_index:upper_index],axis='columns')\n",
    "        x_train,x_test,y_train,y_test=train_test_split(X_scale,Y,test_size=0.3,random_state=1234456)\n",
    "        dropped_cols=X.columns[lower_index:upper_index]\n",
    "        \n",
    "        regressor = SVR(kernel = 'rbf')\n",
    "        regressor.fit(x_train, y_train)\n",
    "        \n",
    "        \n",
    "        \n",
    "\n",
    "        assignment_dict.append({\n",
    "\n",
    "            'features':X_scale.columns,\n",
    "            'Number of features':len(X_scale.columns),\n",
    "            'dropped_features':dropped_cols,\n",
    "            'train_score':regressor.score(x_train,y_train),\n",
    "            'test_score':regressor.score(x_test,y_test)\n",
    "        })\n",
    "\n",
    "        \n",
    "        \n",
    "        upper_index+=3\n",
    "        lower_index+=3\n",
    "    \n",
    "    dataframe=pd.DataFrame(assignment_dict)\n",
    "    assignment=dataframe.style.set_caption(\"Train and test scores for different features\")\n",
    "    pd.set_option('display.max_colwidth', None)\n",
    "    \n",
    "\n",
    "    return assignment\n",
    "support_vector_regression(df)"
   ]
  },
  {
   "cell_type": "markdown",
   "metadata": {},
   "source": [
    "#### It gives very high RMSE value hence ignored"
   ]
  },
  {
   "cell_type": "markdown",
   "metadata": {},
   "source": [
    "## To optimize the Random forest regressor"
   ]
  },
  {
   "cell_type": "markdown",
   "metadata": {},
   "source": [
    "Chose Random Forest as it gives lower RMSE score"
   ]
  },
  {
   "cell_type": "markdown",
   "metadata": {},
   "source": [
    "#### Encoding the categorical variables to numeric using LabelEncoder"
   ]
  },
  {
   "cell_type": "code",
   "execution_count": null,
   "metadata": {
    "execution": {
     "iopub.execute_input": "2021-07-18T07:02:51.406475Z",
     "iopub.status.busy": "2021-07-18T07:02:51.406028Z",
     "iopub.status.idle": "2021-07-18T07:02:51.413577Z",
     "shell.execute_reply": "2021-07-18T07:02:51.411398Z",
     "shell.execute_reply.started": "2021-07-18T07:02:51.40644Z"
    }
   },
   "outputs": [],
   "source": [
    "import sklearn.preprocessing as pre\n",
    "le=pre.LabelEncoder()"
   ]
  },
  {
   "cell_type": "code",
   "execution_count": null,
   "metadata": {
    "execution": {
     "iopub.execute_input": "2021-07-18T07:02:51.41705Z",
     "iopub.status.busy": "2021-07-18T07:02:51.416424Z",
     "iopub.status.idle": "2021-07-18T07:02:51.429445Z",
     "shell.execute_reply": "2021-07-18T07:02:51.427835Z",
     "shell.execute_reply.started": "2021-07-18T07:02:51.417006Z"
    }
   },
   "outputs": [],
   "source": [
    "df_copy=df"
   ]
  },
  {
   "cell_type": "code",
   "execution_count": null,
   "metadata": {
    "execution": {
     "iopub.execute_input": "2021-07-18T07:02:51.431833Z",
     "iopub.status.busy": "2021-07-18T07:02:51.431448Z",
     "iopub.status.idle": "2021-07-18T07:02:51.587735Z",
     "shell.execute_reply": "2021-07-18T07:02:51.586503Z",
     "shell.execute_reply.started": "2021-07-18T07:02:51.431798Z"
    }
   },
   "outputs": [],
   "source": [
    "for x in df.select_dtypes(include='object').columns:\n",
    "    df[x]=le.fit_transform(df[x])\n"
   ]
  },
  {
   "cell_type": "code",
   "execution_count": null,
   "metadata": {
    "execution": {
     "iopub.execute_input": "2021-07-18T07:02:51.589751Z",
     "iopub.status.busy": "2021-07-18T07:02:51.589374Z",
     "iopub.status.idle": "2021-07-18T07:02:51.617793Z",
     "shell.execute_reply": "2021-07-18T07:02:51.616479Z",
     "shell.execute_reply.started": "2021-07-18T07:02:51.589718Z"
    }
   },
   "outputs": [],
   "source": [
    "df.head()"
   ]
  },
  {
   "cell_type": "code",
   "execution_count": null,
   "metadata": {
    "execution": {
     "iopub.execute_input": "2021-07-18T07:02:51.620211Z",
     "iopub.status.busy": "2021-07-18T07:02:51.619789Z",
     "iopub.status.idle": "2021-07-18T07:02:51.630241Z",
     "shell.execute_reply": "2021-07-18T07:02:51.62885Z",
     "shell.execute_reply.started": "2021-07-18T07:02:51.620174Z"
    }
   },
   "outputs": [],
   "source": [
    "response=df['UltimateIncurredClaimCost']\n",
    "response "
   ]
  },
  {
   "cell_type": "markdown",
   "metadata": {},
   "source": [
    "### Feature importance"
   ]
  },
  {
   "cell_type": "code",
   "execution_count": null,
   "metadata": {
    "execution": {
     "iopub.execute_input": "2021-07-18T06:44:19.877425Z",
     "iopub.status.busy": "2021-07-18T06:44:19.876543Z",
     "iopub.status.idle": "2021-07-18T06:44:19.951605Z",
     "shell.execute_reply": "2021-07-18T06:44:19.948385Z",
     "shell.execute_reply.started": "2021-07-18T06:44:19.87736Z"
    }
   },
   "outputs": [],
   "source": [
    "from sklearn.ensemble import ExtraTreesRegressor\n",
    "\n",
    "import matplotlib.pyplot as plt\n",
    "\n",
    "model = ExtraTreesRegressor()\n",
    "\n",
    "model.fit(pred,response)"
   ]
  },
  {
   "cell_type": "code",
   "execution_count": null,
   "metadata": {
    "execution": {
     "iopub.execute_input": "2021-07-18T06:48:08.584159Z",
     "iopub.status.busy": "2021-07-18T06:48:08.583721Z",
     "iopub.status.idle": "2021-07-18T06:48:08.616254Z",
     "shell.execute_reply": "2021-07-18T06:48:08.61387Z",
     "shell.execute_reply.started": "2021-07-18T06:48:08.584122Z"
    }
   },
   "outputs": [],
   "source": [
    "print(model.feature_importances_)\n",
    "\n",
    "feat_importances = pd.Series(model.feature_importances_, index=predictor.columns)\n",
    "\n",
    "feat_importances.nlargest(8).plot(kind='barh')\n",
    "\n",
    "plt.show()"
   ]
  },
  {
   "cell_type": "code",
   "execution_count": null,
   "metadata": {
    "execution": {
     "iopub.execute_input": "2021-07-18T07:02:51.632835Z",
     "iopub.status.busy": "2021-07-18T07:02:51.632137Z",
     "iopub.status.idle": "2021-07-18T07:02:51.670719Z",
     "shell.execute_reply": "2021-07-18T07:02:51.669311Z",
     "shell.execute_reply.started": "2021-07-18T07:02:51.632788Z"
    }
   },
   "outputs": [],
   "source": [
    "imp_features=['ClaimNumber', 'DateReported', 'Age','MaritalStatus','WeeklyWages','HoursWorkedPerWeek', \n",
    "             'ClaimDescription', 'InitialIncurredCalimsCost']\n",
    "predictor=df[imp_features]\n",
    "predictor"
   ]
  },
  {
   "cell_type": "markdown",
   "metadata": {},
   "source": [
    "### Min Max scaling"
   ]
  },
  {
   "cell_type": "code",
   "execution_count": null,
   "metadata": {
    "execution": {
     "iopub.execute_input": "2021-07-18T07:02:51.673252Z",
     "iopub.status.busy": "2021-07-18T07:02:51.672733Z",
     "iopub.status.idle": "2021-07-18T07:02:51.706235Z",
     "shell.execute_reply": "2021-07-18T07:02:51.705132Z",
     "shell.execute_reply.started": "2021-07-18T07:02:51.6732Z"
    }
   },
   "outputs": [],
   "source": [
    "df_scale=pre.minmax_scale(predictor)\n",
    "df_scale=pd.DataFrame(df_scale,columns=imp_features)\n",
    "df_scale"
   ]
  },
  {
   "cell_type": "markdown",
   "metadata": {},
   "source": [
    "##### Split train and test"
   ]
  },
  {
   "cell_type": "code",
   "execution_count": null,
   "metadata": {
    "execution": {
     "iopub.execute_input": "2021-07-18T07:02:51.707933Z",
     "iopub.status.busy": "2021-07-18T07:02:51.707606Z",
     "iopub.status.idle": "2021-07-18T07:02:51.722304Z",
     "shell.execute_reply": "2021-07-18T07:02:51.721051Z",
     "shell.execute_reply.started": "2021-07-18T07:02:51.707899Z"
    }
   },
   "outputs": [],
   "source": [
    "from sklearn.model_selection import train_test_split\n",
    "x_train, x_test, y_train, y_test = train_test_split(predictor, response, test_size=0.3, random_state=0)"
   ]
  },
  {
   "cell_type": "markdown",
   "metadata": {},
   "source": [
    "## Final Model"
   ]
  },
  {
   "cell_type": "code",
   "execution_count": null,
   "metadata": {
    "execution": {
     "iopub.execute_input": "2021-07-18T07:02:51.724637Z",
     "iopub.status.busy": "2021-07-18T07:02:51.724117Z",
     "iopub.status.idle": "2021-07-18T07:02:51.73164Z",
     "shell.execute_reply": "2021-07-18T07:02:51.730125Z",
     "shell.execute_reply.started": "2021-07-18T07:02:51.724582Z"
    }
   },
   "outputs": [],
   "source": [
    "from sklearn.ensemble import RandomForestRegressor"
   ]
  },
  {
   "cell_type": "code",
   "execution_count": null,
   "metadata": {
    "execution": {
     "iopub.execute_input": "2021-07-18T07:02:51.733588Z",
     "iopub.status.busy": "2021-07-18T07:02:51.733087Z",
     "iopub.status.idle": "2021-07-18T07:02:51.745419Z",
     "shell.execute_reply": "2021-07-18T07:02:51.74433Z",
     "shell.execute_reply.started": "2021-07-18T07:02:51.733551Z"
    }
   },
   "outputs": [],
   "source": [
    "rfr=RandomForestRegressor()"
   ]
  },
  {
   "cell_type": "code",
   "execution_count": null,
   "metadata": {
    "execution": {
     "iopub.execute_input": "2021-07-18T07:02:51.747172Z",
     "iopub.status.busy": "2021-07-18T07:02:51.746808Z",
     "iopub.status.idle": "2021-07-18T07:03:05.186646Z",
     "shell.execute_reply": "2021-07-18T07:03:05.185394Z",
     "shell.execute_reply.started": "2021-07-18T07:02:51.74714Z"
    }
   },
   "outputs": [],
   "source": [
    "rfr.fit(x_train,y_train)\n",
    "y_pred=rfr.predict(x_test)\n",
    "y_pred"
   ]
  },
  {
   "cell_type": "code",
   "execution_count": null,
   "metadata": {
    "execution": {
     "iopub.execute_input": "2021-07-18T07:03:05.188347Z",
     "iopub.status.busy": "2021-07-18T07:03:05.18803Z",
     "iopub.status.idle": "2021-07-18T07:03:05.196004Z",
     "shell.execute_reply": "2021-07-18T07:03:05.195121Z",
     "shell.execute_reply.started": "2021-07-18T07:03:05.188308Z"
    }
   },
   "outputs": [],
   "source": [
    "from sklearn.metrics import mean_squared_error\n",
    "mean_squared_error(y_test, y_pred, squared=False)"
   ]
  },
  {
   "cell_type": "code",
   "execution_count": null,
   "metadata": {},
   "outputs": [],
   "source": [
    "# Randomized Search CV\n",
    "#Number of trees in random forest\n",
    "n_estimators = [int(x) for x in np.linspace(start = 100, stop = 1200, num = 12)]\n",
    "\n",
    "#Number of features to consider at every split\n",
    "max_features = ['auto', 'sqrt']\n",
    "\n",
    "#Maximum number of levels in tree\n",
    "max_depth = [int(x) for x in np.linspace(5, 30, num = 6)]\n",
    "\n",
    "#Minimum number of samples required to split a node\n",
    "min_samples_split = [2, 5, 10, 15, 100]\n",
    "\n",
    "#Minimum number of samples required at each leaf node\n",
    "min_samples_leaf = [1, 2, 5, 10]\n",
    "\n",
    "### Create the random grid\n",
    "random_grid = {'n_estimators': n_estimators,\n",
    "               'max_features': max_features,\n",
    "               'max_depth': max_depth,\n",
    "               'min_samples_split': min_samples_split,\n",
    "               'min_samples_leaf': min_samples_leaf}\n",
    "\n",
    "print(random_grid)\n",
    "\n",
    "rf = RandomForestRegressor()\n",
    "\n",
    "from sklearn.model_selection import RandomizedSearchCV\n",
    "\n",
    "rf_random = RandomizedSearchCV(estimator = rf, param_distributions = random_grid,scoring='neg_mean_squared_error', n_iter = 5, cv = 5, verbose=2, random_state=42, n_jobs = 1)\n",
    "\n",
    "### Fitting the model and finding best parameters and score\n",
    "\n",
    "rf_random.fit(x_train,y_train)\n",
    "\n",
    "rf_random.best_params_\n",
    "\n",
    "rf_random.best_score_"
   ]
  },
  {
   "cell_type": "markdown",
   "metadata": {},
   "source": [
    "The results given from considering the parameters obtained from the above Randomized search Cv were not better, hence ignored. "
   ]
  },
  {
   "cell_type": "markdown",
   "metadata": {},
   "source": [
    "# Reading and testing the built model on test data"
   ]
  },
  {
   "cell_type": "code",
   "execution_count": null,
   "metadata": {
    "execution": {
     "iopub.execute_input": "2021-07-18T07:03:05.197665Z",
     "iopub.status.busy": "2021-07-18T07:03:05.197306Z",
     "iopub.status.idle": "2021-07-18T07:03:05.2708Z",
     "shell.execute_reply": "2021-07-18T07:03:05.269713Z",
     "shell.execute_reply.started": "2021-07-18T07:03:05.197627Z"
    }
   },
   "outputs": [],
   "source": [
    "test_data=pd.read_csv(\"Test_SJC.csv\",usecols=imp_features)\n",
    "test_data.head()"
   ]
  },
  {
   "cell_type": "code",
   "execution_count": null,
   "metadata": {
    "execution": {
     "iopub.execute_input": "2021-07-18T07:03:05.272606Z",
     "iopub.status.busy": "2021-07-18T07:03:05.272287Z",
     "iopub.status.idle": "2021-07-18T07:03:05.290338Z",
     "shell.execute_reply": "2021-07-18T07:03:05.289156Z",
     "shell.execute_reply.started": "2021-07-18T07:03:05.272551Z"
    }
   },
   "outputs": [],
   "source": [
    " test_data.isnull().sum()"
   ]
  },
  {
   "cell_type": "code",
   "execution_count": null,
   "metadata": {
    "execution": {
     "iopub.execute_input": "2021-07-18T07:03:05.292398Z",
     "iopub.status.busy": "2021-07-18T07:03:05.291957Z",
     "iopub.status.idle": "2021-07-18T07:03:05.302507Z",
     "shell.execute_reply": "2021-07-18T07:03:05.301557Z",
     "shell.execute_reply.started": "2021-07-18T07:03:05.292355Z"
    }
   },
   "outputs": [],
   "source": [
    "test_data.dtypes"
   ]
  },
  {
   "cell_type": "code",
   "execution_count": null,
   "metadata": {
    "execution": {
     "iopub.execute_input": "2021-07-18T07:03:05.304291Z",
     "iopub.status.busy": "2021-07-18T07:03:05.303866Z",
     "iopub.status.idle": "2021-07-18T07:03:05.32987Z",
     "shell.execute_reply": "2021-07-18T07:03:05.328289Z",
     "shell.execute_reply.started": "2021-07-18T07:03:05.304229Z"
    }
   },
   "outputs": [],
   "source": [
    "df_scale.head()"
   ]
  },
  {
   "cell_type": "code",
   "execution_count": null,
   "metadata": {
    "execution": {
     "iopub.execute_input": "2021-07-18T07:03:05.332388Z",
     "iopub.status.busy": "2021-07-18T07:03:05.332036Z",
     "iopub.status.idle": "2021-07-18T07:03:05.347451Z",
     "shell.execute_reply": "2021-07-18T07:03:05.346153Z",
     "shell.execute_reply.started": "2021-07-18T07:03:05.332355Z"
    }
   },
   "outputs": [],
   "source": [
    "test_data.columns"
   ]
  },
  {
   "cell_type": "code",
   "execution_count": null,
   "metadata": {
    "execution": {
     "iopub.execute_input": "2021-07-18T07:03:05.350078Z",
     "iopub.status.busy": "2021-07-18T07:03:05.349588Z",
     "iopub.status.idle": "2021-07-18T07:03:05.36403Z",
     "shell.execute_reply": "2021-07-18T07:03:05.362704Z",
     "shell.execute_reply.started": "2021-07-18T07:03:05.350026Z"
    }
   },
   "outputs": [],
   "source": [
    " test_data['MaritalStatus'] = test_data['MaritalStatus'].fillna('U')"
   ]
  },
  {
   "cell_type": "code",
   "execution_count": null,
   "metadata": {
    "execution": {
     "iopub.execute_input": "2021-07-18T07:03:05.366305Z",
     "iopub.status.busy": "2021-07-18T07:03:05.365786Z",
     "iopub.status.idle": "2021-07-18T07:03:05.449931Z",
     "shell.execute_reply": "2021-07-18T07:03:05.448543Z",
     "shell.execute_reply.started": "2021-07-18T07:03:05.366233Z"
    }
   },
   "outputs": [],
   "source": [
    "label_encoder=pre.LabelEncoder()\n",
    "test_data['ClaimNumber']=label_encoder.fit_transform(test_data['ClaimNumber'])\n",
    "test_data['ClaimNumber']=label_encoder.fit_transform(test_data['ClaimNumber'])\n",
    "test_data['DateReported']=label_encoder.fit_transform(test_data['DateReported'])\n",
    "test_data['MaritalStatus']=label_encoder.fit_transform(test_data['MaritalStatus'])\n",
    "test_data['ClaimDescription']=label_encoder.fit_transform(test_data['ClaimDescription'])"
   ]
  },
  {
   "cell_type": "code",
   "execution_count": null,
   "metadata": {
    "execution": {
     "iopub.execute_input": "2021-07-18T07:03:05.451913Z",
     "iopub.status.busy": "2021-07-18T07:03:05.451573Z",
     "iopub.status.idle": "2021-07-18T07:03:05.459563Z",
     "shell.execute_reply": "2021-07-18T07:03:05.457793Z",
     "shell.execute_reply.started": "2021-07-18T07:03:05.451881Z"
    }
   },
   "outputs": [],
   "source": [
    "def test_pre(data):\n",
    "   \n",
    "    import sklearn.preprocessing as pre\n",
    "    from sklearn.preprocessing import minmax_scale\n",
    "    label_encoder=pre.LabelEncoder()\n",
    "    data=data.apply(minmax_scale)\n",
    "    data['MaritalStatus']=label_encoder.fit_transform(data['MaritalStatus'])\n",
    "    data['ClaimDescription']=label_encoder.fit_transform(data['ClaimDescription'])\n",
    "    return data\n",
    "    "
   ]
  },
  {
   "cell_type": "code",
   "execution_count": null,
   "metadata": {
    "execution": {
     "iopub.execute_input": "2021-07-18T07:03:05.461855Z",
     "iopub.status.busy": "2021-07-18T07:03:05.461298Z",
     "iopub.status.idle": "2021-07-18T07:03:05.488194Z",
     "shell.execute_reply": "2021-07-18T07:03:05.486784Z",
     "shell.execute_reply.started": "2021-07-18T07:03:05.461813Z"
    }
   },
   "outputs": [],
   "source": [
    "test=test_pre(test_data)"
   ]
  },
  {
   "cell_type": "code",
   "execution_count": null,
   "metadata": {
    "execution": {
     "iopub.execute_input": "2021-07-18T07:03:05.49045Z",
     "iopub.status.busy": "2021-07-18T07:03:05.489936Z",
     "iopub.status.idle": "2021-07-18T07:03:05.63744Z",
     "shell.execute_reply": "2021-07-18T07:03:05.636428Z",
     "shell.execute_reply.started": "2021-07-18T07:03:05.490399Z"
    }
   },
   "outputs": [],
   "source": [
    "y_pred=rfr.predict(test)"
   ]
  },
  {
   "cell_type": "code",
   "execution_count": null,
   "metadata": {
    "execution": {
     "iopub.execute_input": "2021-07-18T07:03:05.639054Z",
     "iopub.status.busy": "2021-07-18T07:03:05.638731Z",
     "iopub.status.idle": "2021-07-18T07:03:05.642923Z",
     "shell.execute_reply": "2021-07-18T07:03:05.642153Z",
     "shell.execute_reply.started": "2021-07-18T07:03:05.639023Z"
    }
   },
   "outputs": [],
   "source": [
    "result=y_pred"
   ]
  }
 ],
 "metadata": {
  "kernelspec": {
   "display_name": "Python 3",
   "language": "python",
   "name": "python3"
  },
  "language_info": {
   "codemirror_mode": {
    "name": "ipython",
    "version": 3
   },
   "file_extension": ".py",
   "mimetype": "text/x-python",
   "name": "python",
   "nbconvert_exporter": "python",
   "pygments_lexer": "ipython3",
   "version": "3.8.8"
  }
 },
 "nbformat": 4,
 "nbformat_minor": 4
}
